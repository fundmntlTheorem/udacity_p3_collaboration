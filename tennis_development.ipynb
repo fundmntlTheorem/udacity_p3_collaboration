{
 "cells": [
  {
   "cell_type": "code",
   "execution_count": 1,
   "id": "e5385a6a",
   "metadata": {},
   "outputs": [],
   "source": [
    "import argparse\n",
    "import os\n",
    "import json\n",
    "import torch\n",
    "import torch.nn as nn\n",
    "from utilities.config import Config\n",
    "from environment.unity import UnityEnv\n",
    "from network.bodies import Actor, FCBody, Critic\n",
    "from network.ddpg import DDPGNetwork\n",
    "from agent.memory_replay import MemoryReplayAgent"
   ]
  },
  {
   "cell_type": "code",
   "execution_count": 2,
   "id": "e6c29f7c",
   "metadata": {},
   "outputs": [],
   "source": [
    "config_file = 'config.json'"
   ]
  },
  {
   "cell_type": "code",
   "execution_count": 3,
   "id": "487f5f9f",
   "metadata": {},
   "outputs": [
    {
     "name": "stdout",
     "output_type": "stream",
     "text": [
      "Device cuda\n",
      "Loading tennis in Train Mode True\n"
     ]
    },
    {
     "name": "stderr",
     "output_type": "stream",
     "text": [
      "INFO:unityagents:\n",
      "'Academy' started successfully!\n",
      "Unity Academy name: Academy\n",
      "        Number of Brains: 1\n",
      "        Number of External Brains : 1\n",
      "        Lesson number : 0\n",
      "        Reset Parameters :\n",
      "\t\t\n",
      "Unity brain name: TennisBrain\n",
      "        Number of Visual Observations (per agent): 0\n",
      "        Vector Observation space type: continuous\n",
      "        Vector Observation space size (per agent): 8\n",
      "        Number of stacked Vector Observation: 3\n",
      "        Vector Action space type: continuous\n",
      "        Vector Action space size (per agent): 2\n",
      "        Vector Action descriptions: , \n"
     ]
    }
   ],
   "source": [
    "with open(config_file) as f:\n",
    "    args = json.load(f)\n",
    "    config = Config()\n",
    "    config.merge(args)\n",
    "\n",
    "    config.env = UnityEnv(config.env_name, config.train_mode)\n",
    "\n",
    "    config.actor_net_func = lambda: Actor(\n",
    "        FCBody(config.env.state_dim, gate_func=nn.ReLU), \n",
    "        config.env.action_dim,\n",
    "        nn.Tanh)\n",
    "\n",
    "    config.critic_net_func = lambda: Critic(\n",
    "        config.env.state_dim,\n",
    "        config.env.action_dim)\n",
    "\n",
    "    config.actor_opt_func = lambda params: \\\n",
    "        torch.optim.Adam(params, config.actor_learning_rate)\n",
    "\n",
    "    config.critic_opt_func = lambda params: \\\n",
    "        torch.optim.Adam(params, config.critic_learning_rate, weight_decay=config.weight_decay)\n",
    "\n",
    "    config.network_func = lambda: DDPGNetwork(config)"
   ]
  },
  {
   "cell_type": "code",
   "execution_count": 4,
   "id": "f75eeecc",
   "metadata": {},
   "outputs": [],
   "source": [
    "from abc import ABC, abstractmethod\n",
    "from collections import deque\n",
    "import torch\n",
    "import numpy as np\n",
    "\n",
    "class BaseAgent(ABC):\n",
    "    def __init__(self, config):\n",
    "        self.config = config\n",
    "        \n",
    "    def save(self, file_name):\n",
    "        torch.save(self.config.network.state_dict(), f'{file_name}.pth')\n",
    "\n",
    "    def load(self, file_name):\n",
    "        # the map_location call transfers the storage already to the correct device\n",
    "        state_dict = torch.load(f'{file_name}.pth', map_location=lambda storage, loc: storage)\n",
    "        self.config.network.load_state_dict(state_dict)\n",
    "\n",
    "    @abstractmethod\n",
    "    def step(self):\n",
    "        pass\n",
    "\n",
    "    @abstractmethod\n",
    "    def save(self, file_name):\n",
    "        pass\n",
    "\n",
    "    @abstractmethod\n",
    "    def load(self, file_name):\n",
    "        pass\n",
    "\n",
    "    def train(self):\n",
    "        '''\n",
    "            Train an agent for a given number of episodes\n",
    "        '''\n",
    "        config = self.config\n",
    "        scores_deque = deque(maxlen=config.reward_window_size)\n",
    "        scores = []\n",
    "        for i_episode in range(1, config.num_episodes+1):\n",
    "            self.reset()\n",
    "            episide_score = np.zeros(self.env.num_agents)\n",
    "            for _ in range(config.max_steps):\n",
    "                score, done = self.step()\n",
    "                # score and done are vectors\n",
    "                episide_score += score\n",
    "                if np.any(done):\n",
    "                    break \n",
    "\n",
    "            # get the maximum score over both agents\n",
    "            episide_score = np.max(episide_score)\n",
    "            scores_deque.append(episide_score)\n",
    "            scores.append(episide_score)\n",
    "            print('\\rEpisode {}\\tAverage Score: {:.2f}'.format(\n",
    "                i_episode, np.mean(scores_deque)), end=\"\")\n",
    "            \n",
    "            if i_episode % config.save_interval == 0:\n",
    "                self.save('checkpoint.pth', scores)\n",
    "\n",
    "            if i_episode % config.log_interval == 0:\n",
    "                print('\\rEpisode {}\\tAverage Score: {:.2f}'.format(\n",
    "                    i_episode, np.mean(scores_deque)))\n",
    "\n",
    "        return scores\n",
    "\n",
    "    def run(self):\n",
    "        '''\n",
    "            Run an agent for one episode without training\n",
    "        '''\n",
    "        total_score = 0\n",
    "        for _ in range(self.config.max_steps):\n",
    "            score, done = self.step(skip_training=True)\n",
    "            total_score += score\n",
    "            if done:\n",
    "                break\n",
    "        print(f'Total score {total_score}')"
   ]
  },
  {
   "cell_type": "code",
   "execution_count": 5,
   "id": "d7b86408",
   "metadata": {},
   "outputs": [],
   "source": [
    "import numpy as np\n",
    "import torch\n",
    "import torch.nn as nn\n",
    "from utilities.storage import ReplayBuffer\n",
    "\n",
    "class MemoryReplayAgent(BaseAgent):\n",
    "    '''\n",
    "        This object is basically a shell that can train\n",
    "        for an agent that can utilize a experience memory buffer\n",
    "    '''\n",
    "    def __init__(self, config):\n",
    "        super().__init__(config)\n",
    "        self.config = config\n",
    "        self.env = config.env\n",
    "        self.network = config.network_func()\n",
    "        self.reset()\n",
    "        self.memory = ReplayBuffer(self.env.action_dim, config.buffer_size, config.batch_size, config.device)\n",
    "\n",
    "    def reset(self):\n",
    "        self.state = self.env.reset()\n",
    "\n",
    "    def step(self, skip_training=False):\n",
    "        '''\n",
    "            Save experience in replay memory, and use random sample from buffer to learn.\n",
    "            return the reward received on this step\n",
    "        '''\n",
    "        action = [self.network.act(state) for state in self.state]\n",
    "        next_state, reward, done = self.env.step(action)\n",
    "\n",
    "        if not skip_training:\n",
    "            # Save the experience to the memory buffer, for each agent\n",
    "            for s,a,r,n,d in zip(self.state, action, reward, next_state, done):\n",
    "                self.memory.add(s, a, r, n, d)\n",
    "\n",
    "            # Learn, if enough samples are available in memory\n",
    "            if len(self.memory) > self.config.batch_size:\n",
    "                experiences = self.memory.sample()\n",
    "                self.network.learn(experiences, self.config.gamma)\n",
    "\n",
    "        # store the next state\n",
    "        self.state = next_state\n",
    "\n",
    "        return reward, done\n",
    "\n",
    "    def save(self, file_name, metrics):\n",
    "        '''\n",
    "            Save the networks to a file\n",
    "        '''\n",
    "        torch.save(\n",
    "            {\n",
    "                'actor': self.network.actor_local.state_dict(),\n",
    "                'critic': self.network.critic_local.state_dict(),\n",
    "                'metrics': metrics,\n",
    "            },\n",
    "            file_name)\n",
    "\n",
    "    def load(self, file_name):\n",
    "        '''\n",
    "            Restore the actor/critic networks\n",
    "        '''\n",
    "        info = torch.load(file_name)\n",
    "        self.actor_local.load_state_dict(info['actor'])\n",
    "        self.critic_local.load_state_dict(info['critic'])"
   ]
  },
  {
   "cell_type": "code",
   "execution_count": 6,
   "id": "01a5fb8c",
   "metadata": {},
   "outputs": [],
   "source": [
    "agent = MemoryReplayAgent(config)\n"
   ]
  },
  {
   "cell_type": "code",
   "execution_count": 27,
   "id": "c7d87599",
   "metadata": {},
   "outputs": [
    {
     "name": "stdout",
     "output_type": "stream",
     "text": [
      "[array([-0.10150523,  0.09366773], dtype=float32), array([-0.10273389,  0.10842322], dtype=float32)]\n"
     ]
    },
    {
     "data": {
      "text/plain": [
       "[<matplotlib.lines.Line2D at 0x18401ef85f8>]"
      ]
     },
     "execution_count": 27,
     "metadata": {},
     "output_type": "execute_result"
    },
    {
     "data": {
      "image/png": "[encoded data removed]",
      "text/plain": [
       "<Figure size 432x288 with 1 Axes>"
      ]
     },
     "metadata": {
      "needs_background": "light"
     },
     "output_type": "display_data"
    }
   ],
   "source": [
    "import matplotlib.pyplot as plt\n",
    "\n",
    "agent.step()\n",
    "fig,ax = plt.subplots()\n",
    "ax.plot(agent.state[0])\n",
    "ax.plot(agent.state[1])"
   ]
  },
  {
   "cell_type": "code",
   "execution_count": null,
   "id": "0305bd8f",
   "metadata": {},
   "outputs": [],
   "source": []
  }
 ],
 "metadata": {
  "kernelspec": {
   "display_name": "Python 3",
   "language": "python",
   "name": "python3"
  },
  "language_info": {
   "codemirror_mode": {
    "name": "ipython",
    "version": 3
   },
   "file_extension": ".py",
   "mimetype": "text/x-python",
   "name": "python",
   "nbconvert_exporter": "python",
   "pygments_lexer": "ipython3",
   "version": "3.6.13"
  }
 },
 "nbformat": 4,
 "nbformat_minor": 5
}
